{
 "cells": [
  {
   "cell_type": "code",
   "execution_count": 1,
   "id": "c841f785",
   "metadata": {},
   "outputs": [],
   "source": [
    "Small introduction to the CRISP-DM Dataminign methodoloy to data analysis"
   ]
  },
  {
   "cell_type": "markdown",
   "id": "149fc585",
   "metadata": {},
   "source": [
    "# Buisness understanding"
   ]
  },
  {
   "cell_type": "markdown",
   "id": "06591f5b",
   "metadata": {},
   "source": [
    "a) background study into the project\n",
    "----------------------------------------------------\n",
    "Food safety is crucial since a reduction in freshness can lead to food poisoning, which can be dangerous to human health. Normally, foods are chosen for their hygienic standards based on their visual appearance and the many machines that are used to verify the freshness of the food. Also, when we examine the total cleanliness of business, this will assist the government's health care for the general public, and citizens' knowledge of the hygiene that businesses maintain will contribute to a better healthier society in the country.\n",
    "\n",
    "\n",
    "b) context and purpose of the project \n",
    "-----------------------------------------------------\n",
    "The goal of the project is to determine the link between the rating values and the elements listed in the table with the company rating. As previously said, cleanliness is an important aspect of public health, and the government has to be aware of these issues in order to manage public health. The government can take additional action (fine them or guide them to follow proper hygiene standards) against businesses that do not take hygiene seriously. In addition, the government may learn about business patterns and other elements that must be considered when evaluating their health sectors.\n",
    "\n",
    "\n",
    "c) comprehensive and critical literature review work that solve simillar  or same problem                                             by using the Data mining techiniques\n",
    "   ---------------------------------------------------------------------------------------------------------------------------\n",
    "   \n",
    "   "
   ]
  },
  {
   "cell_type": "markdown",
   "id": "eebf1039",
   "metadata": {},
   "source": [
    "# Data understanding"
   ]
  },
  {
   "cell_type": "markdown",
   "id": "04f76f28",
   "metadata": {},
   "source": [
    "We only have one dataset that includes the specifics of the business, their hygiene values, and other associated details. Description of the data set and critical assessment of the data set.\n",
    "\n",
    "Data set name: food_hygiene_rating_data\n",
    "\n",
    "Throughout this section, I'll use visualization and aggregation to better comprehend the data's characteristics."
   ]
  },
  {
   "cell_type": "code",
   "execution_count": 65,
   "id": "acb9e6a7",
   "metadata": {},
   "outputs": [],
   "source": [
    "#import neccssary package\n",
    "import numpy as np # linear algebra\n",
    "import pandas as pd # data processing, CSV file I/O (e.g. pd.read_csv)\n",
    "import seaborn as sns\n",
    "import matplotlib.pyplot as plt"
   ]
  },
  {
   "cell_type": "code",
   "execution_count": 66,
   "id": "a89d5e62",
   "metadata": {},
   "outputs": [
    {
     "data": {
      "text/html": [
       "<div>\n",
       "<style scoped>\n",
       "    .dataframe tbody tr th:only-of-type {\n",
       "        vertical-align: middle;\n",
       "    }\n",
       "\n",
       "    .dataframe tbody tr th {\n",
       "        vertical-align: top;\n",
       "    }\n",
       "\n",
       "    .dataframe thead th {\n",
       "        text-align: right;\n",
       "    }\n",
       "</style>\n",
       "<table border=\"1\" class=\"dataframe\">\n",
       "  <thead>\n",
       "    <tr style=\"text-align: right;\">\n",
       "      <th></th>\n",
       "      <th>Unnamed: 0</th>\n",
       "      <th>FHRSID</th>\n",
       "      <th>LocalAuthorityBusinessID</th>\n",
       "      <th>BusinessName</th>\n",
       "      <th>BusinessType</th>\n",
       "      <th>PostCode</th>\n",
       "      <th>RatingValue</th>\n",
       "      <th>RatingKey</th>\n",
       "      <th>RatingDate</th>\n",
       "      <th>LocalAuthorityCode</th>\n",
       "      <th>LocalAuthorityName</th>\n",
       "      <th>Longitude</th>\n",
       "      <th>Latitude</th>\n",
       "    </tr>\n",
       "  </thead>\n",
       "  <tbody>\n",
       "    <tr>\n",
       "      <th>0</th>\n",
       "      <td>0</td>\n",
       "      <td>1438654</td>\n",
       "      <td>21/00856/FOOD</td>\n",
       "      <td>1st Base Catering</td>\n",
       "      <td>Mobile caterer</td>\n",
       "      <td>E20 2ST</td>\n",
       "      <td>AwaitingInspection</td>\n",
       "      <td>fhrs_awaitinginspection_en-GB</td>\n",
       "      <td>NaN</td>\n",
       "      <td>525</td>\n",
       "      <td>Newham</td>\n",
       "      <td>-0.018066</td>\n",
       "      <td>51.538799</td>\n",
       "    </tr>\n",
       "    <tr>\n",
       "      <th>1</th>\n",
       "      <td>1</td>\n",
       "      <td>1132140</td>\n",
       "      <td>19/00459/FOOD</td>\n",
       "      <td>53.5 Degrees</td>\n",
       "      <td>Restaurant/Cafe/Canteen</td>\n",
       "      <td>E16 2RD</td>\n",
       "      <td>5</td>\n",
       "      <td>fhrs_5_en-GB</td>\n",
       "      <td>2019-05-10</td>\n",
       "      <td>525</td>\n",
       "      <td>Newham</td>\n",
       "      <td>0.064757</td>\n",
       "      <td>51.507405</td>\n",
       "    </tr>\n",
       "    <tr>\n",
       "      <th>2</th>\n",
       "      <td>2</td>\n",
       "      <td>1132134</td>\n",
       "      <td>19/00447/FOOD</td>\n",
       "      <td>53.5 Degrees</td>\n",
       "      <td>Restaurant/Cafe/Canteen</td>\n",
       "      <td>E15 4LZ</td>\n",
       "      <td>5</td>\n",
       "      <td>fhrs_5_en-GB</td>\n",
       "      <td>2019-05-14</td>\n",
       "      <td>525</td>\n",
       "      <td>Newham</td>\n",
       "      <td>0.009809</td>\n",
       "      <td>51.543395</td>\n",
       "    </tr>\n",
       "    <tr>\n",
       "      <th>3</th>\n",
       "      <td>3</td>\n",
       "      <td>1260384</td>\n",
       "      <td>20/00288/FOOD</td>\n",
       "      <td>55 Square Limited</td>\n",
       "      <td>Restaurant/Cafe/Canteen</td>\n",
       "      <td>E16 1EN</td>\n",
       "      <td>2</td>\n",
       "      <td>fhrs_2_en-GB</td>\n",
       "      <td>2020-12-09</td>\n",
       "      <td>525</td>\n",
       "      <td>Newham</td>\n",
       "      <td>0.012417</td>\n",
       "      <td>51.517514</td>\n",
       "    </tr>\n",
       "    <tr>\n",
       "      <th>4</th>\n",
       "      <td>4</td>\n",
       "      <td>1389145</td>\n",
       "      <td>21/00354/FOOD</td>\n",
       "      <td>7 Mamas Ltd</td>\n",
       "      <td>Takeaway/sandwich shop</td>\n",
       "      <td>E6 3HN</td>\n",
       "      <td>5</td>\n",
       "      <td>fhrs_5_en-GB</td>\n",
       "      <td>2022-01-05</td>\n",
       "      <td>525</td>\n",
       "      <td>Newham</td>\n",
       "      <td>0.055372</td>\n",
       "      <td>51.527803</td>\n",
       "    </tr>\n",
       "    <tr>\n",
       "      <th>...</th>\n",
       "      <td>...</td>\n",
       "      <td>...</td>\n",
       "      <td>...</td>\n",
       "      <td>...</td>\n",
       "      <td>...</td>\n",
       "      <td>...</td>\n",
       "      <td>...</td>\n",
       "      <td>...</td>\n",
       "      <td>...</td>\n",
       "      <td>...</td>\n",
       "      <td>...</td>\n",
       "      <td>...</td>\n",
       "      <td>...</td>\n",
       "    </tr>\n",
       "    <tr>\n",
       "      <th>24347</th>\n",
       "      <td>1074</td>\n",
       "      <td>1030095</td>\n",
       "      <td>70963</td>\n",
       "      <td>Sure Deal African Restaurant</td>\n",
       "      <td>Restaurant/Cafe/Canteen</td>\n",
       "      <td>RM8 3UU</td>\n",
       "      <td>5</td>\n",
       "      <td>fhrs_5_en-GB</td>\n",
       "      <td>2020-02-29</td>\n",
       "      <td>501</td>\n",
       "      <td>Barking and Dagenham</td>\n",
       "      <td>0.071267</td>\n",
       "      <td>51.540357</td>\n",
       "    </tr>\n",
       "    <tr>\n",
       "      <th>24348</th>\n",
       "      <td>1075</td>\n",
       "      <td>1432572</td>\n",
       "      <td>78113</td>\n",
       "      <td>Sushi and Bento House / Ban Thai/ Fusion House</td>\n",
       "      <td>Restaurant/Cafe/Canteen</td>\n",
       "      <td>RM8 3NH</td>\n",
       "      <td>5</td>\n",
       "      <td>fhrs_5_en-GB</td>\n",
       "      <td>2022-01-23</td>\n",
       "      <td>501</td>\n",
       "      <td>Barking and Dagenham</td>\n",
       "      <td>0.078451</td>\n",
       "      <td>51.537946</td>\n",
       "    </tr>\n",
       "    <tr>\n",
       "      <th>24349</th>\n",
       "      <td>1076</td>\n",
       "      <td>1079143</td>\n",
       "      <td>71743</td>\n",
       "      <td>Suvai Foods UK LTD</td>\n",
       "      <td>Retailers - other</td>\n",
       "      <td>RM9 5SL</td>\n",
       "      <td>3</td>\n",
       "      <td>fhrs_3_en-GB</td>\n",
       "      <td>2021-11-18</td>\n",
       "      <td>501</td>\n",
       "      <td>Barking and Dagenham</td>\n",
       "      <td>0.141192</td>\n",
       "      <td>51.571934</td>\n",
       "    </tr>\n",
       "    <tr>\n",
       "      <th>24350</th>\n",
       "      <td>1077</td>\n",
       "      <td>1292182</td>\n",
       "      <td>76637</td>\n",
       "      <td>Suyahut</td>\n",
       "      <td>Takeaway/sandwich shop</td>\n",
       "      <td>IG11 8ED</td>\n",
       "      <td>5</td>\n",
       "      <td>fhrs_5_en-GB</td>\n",
       "      <td>2020-10-22</td>\n",
       "      <td>501</td>\n",
       "      <td>Barking and Dagenham</td>\n",
       "      <td>0.129532</td>\n",
       "      <td>51.551553</td>\n",
       "    </tr>\n",
       "    <tr>\n",
       "      <th>24351</th>\n",
       "      <td>1078</td>\n",
       "      <td>798417</td>\n",
       "      <td>67163</td>\n",
       "      <td>Sweet Heaven</td>\n",
       "      <td>Retailers - other</td>\n",
       "      <td>RM9 4AL</td>\n",
       "      <td>5</td>\n",
       "      <td>fhrs_5_en-GB</td>\n",
       "      <td>2015-08-26</td>\n",
       "      <td>501</td>\n",
       "      <td>Barking and Dagenham</td>\n",
       "      <td>0.077494</td>\n",
       "      <td>51.536263</td>\n",
       "    </tr>\n",
       "  </tbody>\n",
       "</table>\n",
       "<p>24352 rows × 13 columns</p>\n",
       "</div>"
      ],
      "text/plain": [
       "       Unnamed: 0   FHRSID LocalAuthorityBusinessID  \\\n",
       "0               0  1438654            21/00856/FOOD   \n",
       "1               1  1132140            19/00459/FOOD   \n",
       "2               2  1132134            19/00447/FOOD   \n",
       "3               3  1260384            20/00288/FOOD   \n",
       "4               4  1389145            21/00354/FOOD   \n",
       "...           ...      ...                      ...   \n",
       "24347        1074  1030095                    70963   \n",
       "24348        1075  1432572                    78113   \n",
       "24349        1076  1079143                    71743   \n",
       "24350        1077  1292182                    76637   \n",
       "24351        1078   798417                    67163   \n",
       "\n",
       "                                         BusinessName  \\\n",
       "0                                   1st Base Catering   \n",
       "1                                        53.5 Degrees   \n",
       "2                                        53.5 Degrees   \n",
       "3                                   55 Square Limited   \n",
       "4                                         7 Mamas Ltd   \n",
       "...                                               ...   \n",
       "24347                    Sure Deal African Restaurant   \n",
       "24348  Sushi and Bento House / Ban Thai/ Fusion House   \n",
       "24349                              Suvai Foods UK LTD   \n",
       "24350                                         Suyahut   \n",
       "24351                                    Sweet Heaven   \n",
       "\n",
       "                  BusinessType  PostCode         RatingValue  \\\n",
       "0               Mobile caterer   E20 2ST  AwaitingInspection   \n",
       "1      Restaurant/Cafe/Canteen   E16 2RD                   5   \n",
       "2      Restaurant/Cafe/Canteen   E15 4LZ                   5   \n",
       "3      Restaurant/Cafe/Canteen   E16 1EN                   2   \n",
       "4       Takeaway/sandwich shop    E6 3HN                   5   \n",
       "...                        ...       ...                 ...   \n",
       "24347  Restaurant/Cafe/Canteen   RM8 3UU                   5   \n",
       "24348  Restaurant/Cafe/Canteen   RM8 3NH                   5   \n",
       "24349        Retailers - other   RM9 5SL                   3   \n",
       "24350   Takeaway/sandwich shop  IG11 8ED                   5   \n",
       "24351        Retailers - other   RM9 4AL                   5   \n",
       "\n",
       "                           RatingKey  RatingDate  LocalAuthorityCode  \\\n",
       "0      fhrs_awaitinginspection_en-GB         NaN                 525   \n",
       "1                       fhrs_5_en-GB  2019-05-10                 525   \n",
       "2                       fhrs_5_en-GB  2019-05-14                 525   \n",
       "3                       fhrs_2_en-GB  2020-12-09                 525   \n",
       "4                       fhrs_5_en-GB  2022-01-05                 525   \n",
       "...                              ...         ...                 ...   \n",
       "24347                   fhrs_5_en-GB  2020-02-29                 501   \n",
       "24348                   fhrs_5_en-GB  2022-01-23                 501   \n",
       "24349                   fhrs_3_en-GB  2021-11-18                 501   \n",
       "24350                   fhrs_5_en-GB  2020-10-22                 501   \n",
       "24351                   fhrs_5_en-GB  2015-08-26                 501   \n",
       "\n",
       "         LocalAuthorityName  Longitude   Latitude  \n",
       "0                    Newham  -0.018066  51.538799  \n",
       "1                    Newham   0.064757  51.507405  \n",
       "2                    Newham   0.009809  51.543395  \n",
       "3                    Newham   0.012417  51.517514  \n",
       "4                    Newham   0.055372  51.527803  \n",
       "...                     ...        ...        ...  \n",
       "24347  Barking and Dagenham   0.071267  51.540357  \n",
       "24348  Barking and Dagenham   0.078451  51.537946  \n",
       "24349  Barking and Dagenham   0.141192  51.571934  \n",
       "24350  Barking and Dagenham   0.129532  51.551553  \n",
       "24351  Barking and Dagenham   0.077494  51.536263  \n",
       "\n",
       "[24352 rows x 13 columns]"
      ]
     },
     "execution_count": 66,
     "metadata": {},
     "output_type": "execute_result"
    }
   ],
   "source": [
    "# load data into the notebook\n",
    "df_food_hygiene = pd.read_csv(\"./food_hygiene_rating_data.csv\")\n",
    "# display all the columns before any modification done for the dataset \n",
    "df_food_hygiene"
   ]
  },
  {
   "cell_type": "code",
   "execution_count": 67,
   "id": "c68348b6",
   "metadata": {},
   "outputs": [
    {
     "name": "stdout",
     "output_type": "stream",
     "text": [
      "<class 'pandas.core.frame.DataFrame'>\n",
      "RangeIndex: 24352 entries, 0 to 24351\n",
      "Data columns (total 13 columns):\n",
      " #   Column                    Non-Null Count  Dtype  \n",
      "---  ------                    --------------  -----  \n",
      " 0   Unnamed: 0                24352 non-null  int64  \n",
      " 1   FHRSID                    24352 non-null  int64  \n",
      " 2   LocalAuthorityBusinessID  24352 non-null  object \n",
      " 3   BusinessName              24351 non-null  object \n",
      " 4   BusinessType              24352 non-null  object \n",
      " 5   PostCode                  24352 non-null  object \n",
      " 6   RatingValue               24352 non-null  object \n",
      " 7   RatingKey                 24352 non-null  object \n",
      " 8   RatingDate                21901 non-null  object \n",
      " 9   LocalAuthorityCode        24352 non-null  int64  \n",
      " 10  LocalAuthorityName        24352 non-null  object \n",
      " 11  Longitude                 24352 non-null  float64\n",
      " 12  Latitude                  24352 non-null  float64\n",
      "dtypes: float64(2), int64(3), object(8)\n",
      "memory usage: 2.4+ MB\n"
     ]
    }
   ],
   "source": [
    "# let analyse the data type of the data set \n",
    "df_food_hygiene.info()"
   ]
  },
  {
   "cell_type": "code",
   "execution_count": 68,
   "id": "48ca555e",
   "metadata": {},
   "outputs": [
    {
     "data": {
      "text/plain": [
       "(24352, 13)"
      ]
     },
     "execution_count": 68,
     "metadata": {},
     "output_type": "execute_result"
    }
   ],
   "source": [
    "# or how much data and column in the dataset \n",
    "\n",
    "df_food_hygiene.shape\n"
   ]
  },
  {
   "cell_type": "code",
   "execution_count": 69,
   "id": "e6995f10",
   "metadata": {},
   "outputs": [
    {
     "name": "stdout",
     "output_type": "stream",
     "text": [
      "This discribe basic statitics like 'count, mean, standard deviation, minimum and quartail like 25%,50%,75%'\n"
     ]
    },
    {
     "data": {
      "text/html": [
       "<div>\n",
       "<style scoped>\n",
       "    .dataframe tbody tr th:only-of-type {\n",
       "        vertical-align: middle;\n",
       "    }\n",
       "\n",
       "    .dataframe tbody tr th {\n",
       "        vertical-align: top;\n",
       "    }\n",
       "\n",
       "    .dataframe thead th {\n",
       "        text-align: right;\n",
       "    }\n",
       "</style>\n",
       "<table border=\"1\" class=\"dataframe\">\n",
       "  <thead>\n",
       "    <tr style=\"text-align: right;\">\n",
       "      <th></th>\n",
       "      <th>Unnamed: 0</th>\n",
       "      <th>FHRSID</th>\n",
       "      <th>LocalAuthorityCode</th>\n",
       "      <th>Longitude</th>\n",
       "      <th>Latitude</th>\n",
       "    </tr>\n",
       "  </thead>\n",
       "  <tbody>\n",
       "    <tr>\n",
       "      <th>count</th>\n",
       "      <td>24352.000000</td>\n",
       "      <td>2.435200e+04</td>\n",
       "      <td>24352.000000</td>\n",
       "      <td>24352.000000</td>\n",
       "      <td>24352.000000</td>\n",
       "    </tr>\n",
       "    <tr>\n",
       "      <th>mean</th>\n",
       "      <td>940.406127</td>\n",
       "      <td>9.078713e+05</td>\n",
       "      <td>516.565662</td>\n",
       "      <td>-0.101340</td>\n",
       "      <td>51.528516</td>\n",
       "    </tr>\n",
       "    <tr>\n",
       "      <th>std</th>\n",
       "      <td>758.940910</td>\n",
       "      <td>3.808622e+05</td>\n",
       "      <td>9.214929</td>\n",
       "      <td>0.146662</td>\n",
       "      <td>0.052086</td>\n",
       "    </tr>\n",
       "    <tr>\n",
       "      <th>min</th>\n",
       "      <td>0.000000</td>\n",
       "      <td>5.930000e+02</td>\n",
       "      <td>501.000000</td>\n",
       "      <td>-3.422592</td>\n",
       "      <td>50.695622</td>\n",
       "    </tr>\n",
       "    <tr>\n",
       "      <th>25%</th>\n",
       "      <td>288.000000</td>\n",
       "      <td>5.152438e+05</td>\n",
       "      <td>509.000000</td>\n",
       "      <td>-0.140140</td>\n",
       "      <td>51.503144</td>\n",
       "    </tr>\n",
       "    <tr>\n",
       "      <th>50%</th>\n",
       "      <td>785.000000</td>\n",
       "      <td>1.000268e+06</td>\n",
       "      <td>514.000000</td>\n",
       "      <td>-0.088583</td>\n",
       "      <td>51.534371</td>\n",
       "    </tr>\n",
       "    <tr>\n",
       "      <th>75%</th>\n",
       "      <td>1394.000000</td>\n",
       "      <td>1.263384e+06</td>\n",
       "      <td>526.000000</td>\n",
       "      <td>-0.013117</td>\n",
       "      <td>51.559136</td>\n",
       "    </tr>\n",
       "    <tr>\n",
       "      <th>max</th>\n",
       "      <td>3168.000000</td>\n",
       "      <td>1.486251e+06</td>\n",
       "      <td>533.000000</td>\n",
       "      <td>0.524309</td>\n",
       "      <td>53.741785</td>\n",
       "    </tr>\n",
       "  </tbody>\n",
       "</table>\n",
       "</div>"
      ],
      "text/plain": [
       "         Unnamed: 0        FHRSID  LocalAuthorityCode     Longitude  \\\n",
       "count  24352.000000  2.435200e+04        24352.000000  24352.000000   \n",
       "mean     940.406127  9.078713e+05          516.565662     -0.101340   \n",
       "std      758.940910  3.808622e+05            9.214929      0.146662   \n",
       "min        0.000000  5.930000e+02          501.000000     -3.422592   \n",
       "25%      288.000000  5.152438e+05          509.000000     -0.140140   \n",
       "50%      785.000000  1.000268e+06          514.000000     -0.088583   \n",
       "75%     1394.000000  1.263384e+06          526.000000     -0.013117   \n",
       "max     3168.000000  1.486251e+06          533.000000      0.524309   \n",
       "\n",
       "           Latitude  \n",
       "count  24352.000000  \n",
       "mean      51.528516  \n",
       "std        0.052086  \n",
       "min       50.695622  \n",
       "25%       51.503144  \n",
       "50%       51.534371  \n",
       "75%       51.559136  \n",
       "max       53.741785  "
      ]
     },
     "execution_count": 69,
     "metadata": {},
     "output_type": "execute_result"
    }
   ],
   "source": [
    "# check the basic statistics of this dataset \n",
    "print(\"This discribe basic statitics like 'count, mean, standard deviation, minimum and quartail like 25%,50%,75%'\")\n",
    "df_food_hygiene.describe()"
   ]
  },
  {
   "cell_type": "code",
   "execution_count": 70,
   "id": "5c748058",
   "metadata": {},
   "outputs": [
    {
     "name": "stdout",
     "output_type": "stream",
     "text": [
      "This describe the data variable with object by 'count, number of uinque value, top and freq'\n"
     ]
    },
    {
     "data": {
      "text/html": [
       "<div>\n",
       "<style scoped>\n",
       "    .dataframe tbody tr th:only-of-type {\n",
       "        vertical-align: middle;\n",
       "    }\n",
       "\n",
       "    .dataframe tbody tr th {\n",
       "        vertical-align: top;\n",
       "    }\n",
       "\n",
       "    .dataframe thead th {\n",
       "        text-align: right;\n",
       "    }\n",
       "</style>\n",
       "<table border=\"1\" class=\"dataframe\">\n",
       "  <thead>\n",
       "    <tr style=\"text-align: right;\">\n",
       "      <th></th>\n",
       "      <th>LocalAuthorityBusinessID</th>\n",
       "      <th>BusinessName</th>\n",
       "      <th>BusinessType</th>\n",
       "      <th>PostCode</th>\n",
       "      <th>RatingValue</th>\n",
       "      <th>RatingKey</th>\n",
       "      <th>RatingDate</th>\n",
       "      <th>LocalAuthorityName</th>\n",
       "    </tr>\n",
       "  </thead>\n",
       "  <tbody>\n",
       "    <tr>\n",
       "      <th>count</th>\n",
       "      <td>24352</td>\n",
       "      <td>24351</td>\n",
       "      <td>24352</td>\n",
       "      <td>24352</td>\n",
       "      <td>24352</td>\n",
       "      <td>24352</td>\n",
       "      <td>21901</td>\n",
       "      <td>24352</td>\n",
       "    </tr>\n",
       "    <tr>\n",
       "      <th>unique</th>\n",
       "      <td>23770</td>\n",
       "      <td>21502</td>\n",
       "      <td>14</td>\n",
       "      <td>11398</td>\n",
       "      <td>9</td>\n",
       "      <td>9</td>\n",
       "      <td>2053</td>\n",
       "      <td>27</td>\n",
       "    </tr>\n",
       "    <tr>\n",
       "      <th>top</th>\n",
       "      <td>3762</td>\n",
       "      <td>Costa Coffee</td>\n",
       "      <td>Restaurant/Cafe/Canteen</td>\n",
       "      <td>SE1 9AH</td>\n",
       "      <td>5</td>\n",
       "      <td>fhrs_5_en-GB</td>\n",
       "      <td>2019-01-11</td>\n",
       "      <td>Camden</td>\n",
       "    </tr>\n",
       "    <tr>\n",
       "      <th>freq</th>\n",
       "      <td>3</td>\n",
       "      <td>100</td>\n",
       "      <td>7307</td>\n",
       "      <td>70</td>\n",
       "      <td>12544</td>\n",
       "      <td>12544</td>\n",
       "      <td>262</td>\n",
       "      <td>3169</td>\n",
       "    </tr>\n",
       "  </tbody>\n",
       "</table>\n",
       "</div>"
      ],
      "text/plain": [
       "       LocalAuthorityBusinessID  BusinessName             BusinessType  \\\n",
       "count                     24352         24351                    24352   \n",
       "unique                    23770         21502                       14   \n",
       "top                        3762  Costa Coffee  Restaurant/Cafe/Canteen   \n",
       "freq                          3           100                     7307   \n",
       "\n",
       "       PostCode RatingValue     RatingKey  RatingDate LocalAuthorityName  \n",
       "count     24352       24352         24352       21901              24352  \n",
       "unique    11398           9             9        2053                 27  \n",
       "top     SE1 9AH           5  fhrs_5_en-GB  2019-01-11             Camden  \n",
       "freq         70       12544         12544         262               3169  "
      ]
     },
     "execution_count": 70,
     "metadata": {},
     "output_type": "execute_result"
    }
   ],
   "source": [
    "# The above action is not checking the object data typesm so here we can describe with the object data type\n",
    "print(\"This describe the data variable with object by 'count, number of uinque value, top and freq'\")\n",
    "df_food_hygiene.describe(include=object)"
   ]
  },
  {
   "cell_type": "markdown",
   "id": "0490286f",
   "metadata": {},
   "source": [
    "By just glancing at the aforementioned dataset, we can see that a column called unidentified has been introduced, which is not relevant and will be removed after we conduct the data preparation."
   ]
  },
  {
   "cell_type": "code",
   "execution_count": 71,
   "id": "4d4caa5c",
   "metadata": {},
   "outputs": [
    {
     "data": {
      "text/plain": [
       "array(['AwaitingInspection', '5', '2', '4', '1', '3', 'Exempt', '0',\n",
       "       'AwaitingPublication'], dtype=object)"
      ]
     },
     "execution_count": 71,
     "metadata": {},
     "output_type": "execute_result"
    }
   ],
   "source": [
    "# Lets explore the data with reating value of the business \n",
    "df_food_hygiene['RatingValue'].unique()"
   ]
  },
  {
   "cell_type": "code",
   "execution_count": 72,
   "id": "1eb45df6",
   "metadata": {},
   "outputs": [
    {
     "data": {
      "text/plain": [
       "5                      12544\n",
       "4                       4483\n",
       "3                       2450\n",
       "AwaitingInspection      2439\n",
       "Exempt                  1070\n",
       "2                        675\n",
       "1                        550\n",
       "0                        140\n",
       "AwaitingPublication        1\n",
       "Name: RatingValue, dtype: int64"
      ]
     },
     "execution_count": 72,
     "metadata": {},
     "output_type": "execute_result"
    }
   ],
   "source": [
    "# print the rating values as well as the data counts in the file/business count for each rating value in the dataset\n",
    "df_food_hygiene['RatingValue'].value_counts()"
   ]
  },
  {
   "cell_type": "code",
   "execution_count": 73,
   "id": "3422ad75",
   "metadata": {},
   "outputs": [
    {
     "data": {
      "image/png": "[encoded data removed]",
      "text/plain": [
       "<Figure size 432x288 with 1 Axes>"
      ]
     },
     "metadata": {},
     "output_type": "display_data"
    },
    {
     "data": {
      "text/plain": [
       "<Figure size 1080x576 with 0 Axes>"
      ]
     },
     "metadata": {},
     "output_type": "display_data"
    }
   ],
   "source": [
    "# showcase the rating value by a pie chart/ visual represeantation of the rating values \n",
    "labels = ['5','4', '3','AwaitingInspection','Exempt','2','1', '0','AwaitingPublication']\n",
    "figure1, axis1 = plt.subplots()\n",
    "axis1.pie(df_food_hygiene['RatingValue'].value_counts(), labels=labels, autopct='%1.1f%%',\n",
    "        shadow=True, startangle=90)\n",
    "axis1.axis('equal') \n",
    "plt.figure(figsize=(15,8))\n",
    "axis1.set_title('A pie chart depicting the varied distributions of company hygiene rating ratings in the United Kingdom.')\n",
    "plt.show()"
   ]
  },
  {
   "cell_type": "markdown",
   "id": "ce45ba4c",
   "metadata": {},
   "source": [
    "The Importance of a Rating\n",
    "\n",
    "5 – The sanitary standards are excellent.\n",
    "\n",
    "4 – The hygiene standards are satisfactory.\n",
    "\n",
    "3 – hygienic conditions are typically acceptable.\n",
    "\n",
    "2 – There is room for improvement.\n",
    "\n",
    "1 – Significant improvement is required\n",
    "\n",
    "0 – Immediate improvement is needed\n",
    "\n",
    "We can see from the visual representation of the vpie chart above that more than half of the businesses in the United Kingdom are rated 5 stars. Second, the majority of businesses are classified as 18 percent, awaiting inspection, and the rate value 3 are about equal in percentage. The lowest rating is a 0 rating, which indicates that the firm need immediate attention in terms of hygiene.\n"
   ]
  },
  {
   "cell_type": "code",
   "execution_count": 75,
   "id": "d0b35976",
   "metadata": {},
   "outputs": [],
   "source": [
    "# 2 lets explore the local authority impact on the dataset \n",
    "new_columns = ['First Name', 'Age']\n",
    "\n",
    "\n",
    "df_bar_food=df_food_hygiene['LocalAuthorityName'].value_counts()\n",
    "\n"
   ]
  },
  {
   "cell_type": "code",
   "execution_count": 76,
   "id": "eab403f7",
   "metadata": {},
   "outputs": [
    {
     "data": {
      "text/plain": [
       "array(['Newham', 'Greenwich', 'Westminster', 'Wandsworth', 'Islington',\n",
       "       'Kingston-Upon-Thames', 'Lambeth', 'Lewisham',\n",
       "       'City of London Corporation', 'Merton', 'Redbridge', 'Southwark',\n",
       "       'Sutton', 'Tower Hamlets', 'Waltham Forest', 'Bexley', 'Brent',\n",
       "       'Bromley', 'Camden', 'Croydon', 'Ealing', 'Enfield', 'Hackney',\n",
       "       'Hammersmith and Fulham', 'Haringey', 'Hillingdon',\n",
       "       'Barking and Dagenham'], dtype=object)"
      ]
     },
     "execution_count": 76,
     "metadata": {},
     "output_type": "execute_result"
    }
   ],
   "source": [
    "df_food_hygiene['LocalAuthorityName'].unique()"
   ]
  },
  {
   "cell_type": "code",
   "execution_count": 77,
   "id": "b68318a4",
   "metadata": {},
   "outputs": [
    {
     "data": {
      "image/png": "[encoded data removed]",
      "text/plain": [
       "<Figure size 432x288 with 1 Axes>"
      ]
     },
     "metadata": {},
     "output_type": "display_data"
    },
    {
     "data": {
      "text/plain": [
       "<Figure size 1080x576 with 0 Axes>"
      ]
     },
     "metadata": {},
     "output_type": "display_data"
    }
   ],
   "source": [
    "# view this with a visual representation with bar plot\n",
    "def strip(val):\n",
    "    lab = str(df_food_hygiene[val].loc[1:].value_counts()).split('\\n')\n",
    "    lab.pop()\n",
    "    lab = [s.split('  ') for s in lab]\n",
    "    lab = [item[0] for item in lab]\n",
    "    return lab \n",
    "\n",
    "labels = strip('LocalAuthorityName')\n",
    "labels\n",
    "figure1, axis1 = plt.subplots()\n",
    "axis1.pie(df_food_hygiene['LocalAuthorityName'].value_counts(), labels=labels, autopct='%1.1f%%',\n",
    "        shadow=True, startangle=90)\n",
    "axis1.axis('equal') \n",
    "plt.figure(figsize=(15,8))\n",
    "axis1.set_title('A pie chart depicting the various distributions of Local Authorities in relation to cleanliness ratings in the United Kingdom.')\n",
    "plt.show()\n"
   ]
  },
  {
   "cell_type": "code",
   "execution_count": 78,
   "id": "18ff1cb0",
   "metadata": {},
   "outputs": [
    {
     "data": {
      "text/plain": [
       "Text(0.5, 1.0, 'A bar graph depicting the various distributions of Local Authorities in relation to cleanliness ratings in the United Kingdom.')"
      ]
     },
     "execution_count": 78,
     "metadata": {},
     "output_type": "execute_result"
    },
    {
     "data": {
      "image/png": "[encoded data removed]",
      "text/plain": [
       "<Figure size 1080x576 with 1 Axes>"
      ]
     },
     "metadata": {},
     "output_type": "display_data"
    }
   ],
   "source": [
    "# Also we can show it as bar plot\n",
    "import seaborn as sns\n",
    "\n",
    "sns.set_theme(style=\"whitegrid\")\n",
    "plt.figure(figsize=(15,8))\n",
    "axis = sns.barplot(y=strip('LocalAuthorityName'), x=df_food_hygiene['LocalAuthorityName'].value_counts())\n",
    "axis.set_title('A bar graph depicting the various distributions of Local Authorities in relation to cleanliness ratings in the United Kingdom.')"
   ]
  },
  {
   "cell_type": "markdown",
   "id": "471daf22",
   "metadata": {},
   "source": [
    "As from the above results we can clearly see the cadmen authority which have the most number of business i the dataset and \n"
   ]
  },
  {
   "cell_type": "markdown",
   "id": "70c59660",
   "metadata": {},
   "source": [
    "And now we try to combine the local authorities and rating values which the business that in there. To look at how that all data buisness ratings for particular autorities. The below graph show us that the each local authorities and counts of business different rating values holds."
   ]
  },
  {
   "cell_type": "code",
   "execution_count": 79,
   "id": "017e2a23",
   "metadata": {},
   "outputs": [
    {
     "data": {
      "text/plain": [
       "<AxesSubplot:title={'center':'Stacked Bar Plot showing the different distributions of Local Athorities relating to hygiene ratings in the UK '}, xlabel='LocalAuthorityName'>"
      ]
     },
     "execution_count": 79,
     "metadata": {},
     "output_type": "execute_result"
    },
    {
     "data": {
      "image/png": "[encoded data removed]",
      "text/plain": [
       "<Figure size 1080x576 with 1 Axes>"
      ]
     },
     "metadata": {},
     "output_type": "display_data"
    }
   ],
   "source": [
    "# create new datafram that taking out local authorities and rating values \n",
    "df_conbine_rate_lautho = df_food_hygiene.groupby(['LocalAuthorityName'])['RatingValue'].value_counts().unstack(1)\n",
    "title = 'Stacked Bar Plot showing the different distributions of Local Athorities relating to hygiene ratings in the UK '\n",
    "\n",
    "df_conbine_rate_lautho.plot.bar(stacked=True,  colormap ='Set2', title=title,figsize=(15,8))"
   ]
  },
  {
   "cell_type": "markdown",
   "id": "9a6efbdc",
   "metadata": {},
   "source": []
  },
  {
   "cell_type": "markdown",
   "id": "e9332052",
   "metadata": {},
   "source": [
    "# Data preparation"
   ]
  },
  {
   "cell_type": "markdown",
   "id": "72b06567",
   "metadata": {},
   "source": [
    "Cleaning the Data \n",
    "-------------------------\n",
    "As the first step of the data cleaning and pre processing here we going to findout how much null values in the dataset,and remove it from the data set."
   ]
  },
  {
   "cell_type": "code",
   "execution_count": 80,
   "id": "bd3f42bf",
   "metadata": {},
   "outputs": [
    {
     "data": {
      "text/html": [
       "<div>\n",
       "<style scoped>\n",
       "    .dataframe tbody tr th:only-of-type {\n",
       "        vertical-align: middle;\n",
       "    }\n",
       "\n",
       "    .dataframe tbody tr th {\n",
       "        vertical-align: top;\n",
       "    }\n",
       "\n",
       "    .dataframe thead th {\n",
       "        text-align: right;\n",
       "    }\n",
       "</style>\n",
       "<table border=\"1\" class=\"dataframe\">\n",
       "  <thead>\n",
       "    <tr style=\"text-align: right;\">\n",
       "      <th></th>\n",
       "      <th>Unnamed: 0</th>\n",
       "      <th>FHRSID</th>\n",
       "      <th>LocalAuthorityBusinessID</th>\n",
       "      <th>BusinessName</th>\n",
       "      <th>BusinessType</th>\n",
       "      <th>PostCode</th>\n",
       "      <th>RatingValue</th>\n",
       "      <th>RatingKey</th>\n",
       "      <th>RatingDate</th>\n",
       "      <th>LocalAuthorityCode</th>\n",
       "      <th>LocalAuthorityName</th>\n",
       "      <th>Longitude</th>\n",
       "      <th>Latitude</th>\n",
       "    </tr>\n",
       "  </thead>\n",
       "  <tbody>\n",
       "    <tr>\n",
       "      <th>0</th>\n",
       "      <td>False</td>\n",
       "      <td>False</td>\n",
       "      <td>False</td>\n",
       "      <td>False</td>\n",
       "      <td>False</td>\n",
       "      <td>False</td>\n",
       "      <td>False</td>\n",
       "      <td>False</td>\n",
       "      <td>True</td>\n",
       "      <td>False</td>\n",
       "      <td>False</td>\n",
       "      <td>False</td>\n",
       "      <td>False</td>\n",
       "    </tr>\n",
       "    <tr>\n",
       "      <th>1</th>\n",
       "      <td>False</td>\n",
       "      <td>False</td>\n",
       "      <td>False</td>\n",
       "      <td>False</td>\n",
       "      <td>False</td>\n",
       "      <td>False</td>\n",
       "      <td>False</td>\n",
       "      <td>False</td>\n",
       "      <td>False</td>\n",
       "      <td>False</td>\n",
       "      <td>False</td>\n",
       "      <td>False</td>\n",
       "      <td>False</td>\n",
       "    </tr>\n",
       "    <tr>\n",
       "      <th>2</th>\n",
       "      <td>False</td>\n",
       "      <td>False</td>\n",
       "      <td>False</td>\n",
       "      <td>False</td>\n",
       "      <td>False</td>\n",
       "      <td>False</td>\n",
       "      <td>False</td>\n",
       "      <td>False</td>\n",
       "      <td>False</td>\n",
       "      <td>False</td>\n",
       "      <td>False</td>\n",
       "      <td>False</td>\n",
       "      <td>False</td>\n",
       "    </tr>\n",
       "    <tr>\n",
       "      <th>3</th>\n",
       "      <td>False</td>\n",
       "      <td>False</td>\n",
       "      <td>False</td>\n",
       "      <td>False</td>\n",
       "      <td>False</td>\n",
       "      <td>False</td>\n",
       "      <td>False</td>\n",
       "      <td>False</td>\n",
       "      <td>False</td>\n",
       "      <td>False</td>\n",
       "      <td>False</td>\n",
       "      <td>False</td>\n",
       "      <td>False</td>\n",
       "    </tr>\n",
       "    <tr>\n",
       "      <th>4</th>\n",
       "      <td>False</td>\n",
       "      <td>False</td>\n",
       "      <td>False</td>\n",
       "      <td>False</td>\n",
       "      <td>False</td>\n",
       "      <td>False</td>\n",
       "      <td>False</td>\n",
       "      <td>False</td>\n",
       "      <td>False</td>\n",
       "      <td>False</td>\n",
       "      <td>False</td>\n",
       "      <td>False</td>\n",
       "      <td>False</td>\n",
       "    </tr>\n",
       "    <tr>\n",
       "      <th>...</th>\n",
       "      <td>...</td>\n",
       "      <td>...</td>\n",
       "      <td>...</td>\n",
       "      <td>...</td>\n",
       "      <td>...</td>\n",
       "      <td>...</td>\n",
       "      <td>...</td>\n",
       "      <td>...</td>\n",
       "      <td>...</td>\n",
       "      <td>...</td>\n",
       "      <td>...</td>\n",
       "      <td>...</td>\n",
       "      <td>...</td>\n",
       "    </tr>\n",
       "    <tr>\n",
       "      <th>24347</th>\n",
       "      <td>False</td>\n",
       "      <td>False</td>\n",
       "      <td>False</td>\n",
       "      <td>False</td>\n",
       "      <td>False</td>\n",
       "      <td>False</td>\n",
       "      <td>False</td>\n",
       "      <td>False</td>\n",
       "      <td>False</td>\n",
       "      <td>False</td>\n",
       "      <td>False</td>\n",
       "      <td>False</td>\n",
       "      <td>False</td>\n",
       "    </tr>\n",
       "    <tr>\n",
       "      <th>24348</th>\n",
       "      <td>False</td>\n",
       "      <td>False</td>\n",
       "      <td>False</td>\n",
       "      <td>False</td>\n",
       "      <td>False</td>\n",
       "      <td>False</td>\n",
       "      <td>False</td>\n",
       "      <td>False</td>\n",
       "      <td>False</td>\n",
       "      <td>False</td>\n",
       "      <td>False</td>\n",
       "      <td>False</td>\n",
       "      <td>False</td>\n",
       "    </tr>\n",
       "    <tr>\n",
       "      <th>24349</th>\n",
       "      <td>False</td>\n",
       "      <td>False</td>\n",
       "      <td>False</td>\n",
       "      <td>False</td>\n",
       "      <td>False</td>\n",
       "      <td>False</td>\n",
       "      <td>False</td>\n",
       "      <td>False</td>\n",
       "      <td>False</td>\n",
       "      <td>False</td>\n",
       "      <td>False</td>\n",
       "      <td>False</td>\n",
       "      <td>False</td>\n",
       "    </tr>\n",
       "    <tr>\n",
       "      <th>24350</th>\n",
       "      <td>False</td>\n",
       "      <td>False</td>\n",
       "      <td>False</td>\n",
       "      <td>False</td>\n",
       "      <td>False</td>\n",
       "      <td>False</td>\n",
       "      <td>False</td>\n",
       "      <td>False</td>\n",
       "      <td>False</td>\n",
       "      <td>False</td>\n",
       "      <td>False</td>\n",
       "      <td>False</td>\n",
       "      <td>False</td>\n",
       "    </tr>\n",
       "    <tr>\n",
       "      <th>24351</th>\n",
       "      <td>False</td>\n",
       "      <td>False</td>\n",
       "      <td>False</td>\n",
       "      <td>False</td>\n",
       "      <td>False</td>\n",
       "      <td>False</td>\n",
       "      <td>False</td>\n",
       "      <td>False</td>\n",
       "      <td>False</td>\n",
       "      <td>False</td>\n",
       "      <td>False</td>\n",
       "      <td>False</td>\n",
       "      <td>False</td>\n",
       "    </tr>\n",
       "  </tbody>\n",
       "</table>\n",
       "<p>24352 rows × 13 columns</p>\n",
       "</div>"
      ],
      "text/plain": [
       "       Unnamed: 0  FHRSID  LocalAuthorityBusinessID  BusinessName  \\\n",
       "0           False   False                     False         False   \n",
       "1           False   False                     False         False   \n",
       "2           False   False                     False         False   \n",
       "3           False   False                     False         False   \n",
       "4           False   False                     False         False   \n",
       "...           ...     ...                       ...           ...   \n",
       "24347       False   False                     False         False   \n",
       "24348       False   False                     False         False   \n",
       "24349       False   False                     False         False   \n",
       "24350       False   False                     False         False   \n",
       "24351       False   False                     False         False   \n",
       "\n",
       "       BusinessType  PostCode  RatingValue  RatingKey  RatingDate  \\\n",
       "0             False     False        False      False        True   \n",
       "1             False     False        False      False       False   \n",
       "2             False     False        False      False       False   \n",
       "3             False     False        False      False       False   \n",
       "4             False     False        False      False       False   \n",
       "...             ...       ...          ...        ...         ...   \n",
       "24347         False     False        False      False       False   \n",
       "24348         False     False        False      False       False   \n",
       "24349         False     False        False      False       False   \n",
       "24350         False     False        False      False       False   \n",
       "24351         False     False        False      False       False   \n",
       "\n",
       "       LocalAuthorityCode  LocalAuthorityName  Longitude  Latitude  \n",
       "0                   False               False      False     False  \n",
       "1                   False               False      False     False  \n",
       "2                   False               False      False     False  \n",
       "3                   False               False      False     False  \n",
       "4                   False               False      False     False  \n",
       "...                   ...                 ...        ...       ...  \n",
       "24347               False               False      False     False  \n",
       "24348               False               False      False     False  \n",
       "24349               False               False      False     False  \n",
       "24350               False               False      False     False  \n",
       "24351               False               False      False     False  \n",
       "\n",
       "[24352 rows x 13 columns]"
      ]
     },
     "execution_count": 80,
     "metadata": {},
     "output_type": "execute_result"
    }
   ],
   "source": [
    "# findout what are the columns have null values\n",
    "df_food_hygiene.isnull()"
   ]
  },
  {
   "cell_type": "code",
   "execution_count": 53,
   "id": "b17c36ca",
   "metadata": {},
   "outputs": [
    {
     "name": "stdout",
     "output_type": "stream",
     "text": [
      "Nan values exist in\n",
      "Unnamed: 0 : False\n",
      "FHRSID : False\n",
      "LocalAuthorityBusinessID : False\n",
      "BusinessName : True\n",
      "BusinessType : False\n",
      "PostCode : False\n",
      "RatingValue : False\n",
      "RatingKey : False\n",
      "RatingDate : True\n",
      "LocalAuthorityCode : False\n",
      "LocalAuthorityName : False\n",
      "Longitude : False\n",
      "Latitude : False\n"
     ]
    }
   ],
   "source": [
    "#Checking for Nan values in features excluding PassengerId, Name\n",
    "print('Nan values exist in')\n",
    "for col in [df_food_hygiene.columns[i] for i in range(0, len(df_food_hygiene.columns))]: #[1,2,4,5,6,7,8,9,10,11]]:\n",
    "    print(col,':', any(df_food_hygiene[col].isna()))"
   ]
  },
  {
   "cell_type": "code",
   "execution_count": 82,
   "id": "89558e3b",
   "metadata": {},
   "outputs": [
    {
     "name": "stdout",
     "output_type": "stream",
     "text": [
      "BusinessName has 1 null values (0.0%)\n",
      "RatingDate has 2451 null values (10.06%)\n"
     ]
    }
   ],
   "source": [
    "# showing null values in a more effective way\n",
    "# check null count\n",
    "\n",
    "df_length = df_food_hygiene.shape[0]\n",
    "\n",
    "for col in df_food_hygiene.columns:\n",
    "    null_count = df_food_hygiene[col].isnull().sum()\n",
    "    if null_count == 0:\n",
    "        continue  \n",
    "    null_ratio = np.round(null_count/df_length * 100, 2)\n",
    "    print(\"{} has {} null values ({}%)\".format(col, null_count, null_ratio))\n",
    "    \n",
    "    "
   ]
  },
  {
   "cell_type": "code",
   "execution_count": 83,
   "id": "c46e64f2",
   "metadata": {},
   "outputs": [
    {
     "data": {
      "text/plain": [
       "Unnamed: 0                     0\n",
       "FHRSID                         0\n",
       "LocalAuthorityBusinessID       0\n",
       "BusinessName                   1\n",
       "BusinessType                   0\n",
       "PostCode                       0\n",
       "RatingValue                    0\n",
       "RatingKey                      0\n",
       "RatingDate                  2451\n",
       "LocalAuthorityCode             0\n",
       "LocalAuthorityName             0\n",
       "Longitude                      0\n",
       "Latitude                       0\n",
       "dtype: int64"
      ]
     },
     "execution_count": 83,
     "metadata": {},
     "output_type": "execute_result"
    }
   ],
   "source": [
    "df_food_hygiene.isna().sum()"
   ]
  },
  {
   "cell_type": "markdown",
   "id": "7d49bfb7",
   "metadata": {},
   "source": [
    "As can be seen in the results of the sum of null values and printing, the rating data column has the greatest null value, while the business name has just one null value. We'll populate the null values with automated system values in the part following."
   ]
  },
  {
   "cell_type": "code",
   "execution_count": 84,
   "id": "7e6aa53b",
   "metadata": {},
   "outputs": [
    {
     "name": "stdout",
     "output_type": "stream",
     "text": [
      "1\n"
     ]
    }
   ],
   "source": [
    "# fill the business name null value\n",
    "df_food_hygiene['BusinessName'] = df_food_hygiene['BusinessName'].fillna('nan')\n",
    "\n",
    "print(len(df_food_hygiene[df_food_hygiene['BusinessName'] == 'nan']['BusinessName']))"
   ]
  },
  {
   "cell_type": "markdown",
   "id": "b1a31583",
   "metadata": {},
   "source": [
    "Here the business name null valued problem solved "
   ]
  },
  {
   "cell_type": "code",
   "execution_count": 85,
   "id": "7899439a",
   "metadata": {},
   "outputs": [
    {
     "data": {
      "text/plain": [
       "Unnamed: 0                     0\n",
       "FHRSID                         0\n",
       "LocalAuthorityBusinessID       0\n",
       "BusinessName                   0\n",
       "BusinessType                   0\n",
       "PostCode                       0\n",
       "RatingValue                    0\n",
       "RatingKey                      0\n",
       "RatingDate                  2451\n",
       "LocalAuthorityCode             0\n",
       "LocalAuthorityName             0\n",
       "Longitude                      0\n",
       "Latitude                       0\n",
       "dtype: int64"
      ]
     },
     "execution_count": 85,
     "metadata": {},
     "output_type": "execute_result"
    }
   ],
   "source": [
    "df_food_hygiene.isna().sum()"
   ]
  },
  {
   "cell_type": "code",
   "execution_count": 86,
   "id": "0fa44f2d",
   "metadata": {},
   "outputs": [
    {
     "name": "stdout",
     "output_type": "stream",
     "text": [
      "2451\n"
     ]
    }
   ],
   "source": [
    "df_food_hygiene['RatingDate'] = df_food_hygiene['RatingDate'].fillna('nan')\n",
    "\n",
    "print(len(df_food_hygiene[df_food_hygiene['RatingDate'] == 'nan']['RatingDate']))"
   ]
  },
  {
   "cell_type": "code",
   "execution_count": 62,
   "id": "eab0d848",
   "metadata": {},
   "outputs": [
    {
     "data": {
      "text/plain": [
       "FHRSID                         0\n",
       "LocalAuthorityBusinessID       0\n",
       "BusinessName                   1\n",
       "BusinessType                   0\n",
       "PostCode                       0\n",
       "RatingValue                    0\n",
       "RatingKey                      0\n",
       "RatingDate                  2451\n",
       "LocalAuthorityCode             0\n",
       "LocalAuthorityName             0\n",
       "Longitude                      0\n",
       "Latitude                       0\n",
       "dtype: int64"
      ]
     },
     "execution_count": 62,
     "metadata": {},
     "output_type": "execute_result"
    }
   ],
   "source": [
    "df_food_hygiene.isna().sum()"
   ]
  },
  {
   "cell_type": "code",
   "execution_count": 87,
   "id": "875219b5",
   "metadata": {},
   "outputs": [],
   "source": [
    "# as before discussed there is one column named Unnamed, nithing we going to do with that \n",
    "# so we removing from the dataframe \n",
    "df_food_hygiene = df_food_hygiene.drop('Unnamed: 0',axis=1)\n"
   ]
  },
  {
   "cell_type": "code",
   "execution_count": 88,
   "id": "fb35fb7f",
   "metadata": {},
   "outputs": [
    {
     "data": {
      "text/html": [
       "<div>\n",
       "<style scoped>\n",
       "    .dataframe tbody tr th:only-of-type {\n",
       "        vertical-align: middle;\n",
       "    }\n",
       "\n",
       "    .dataframe tbody tr th {\n",
       "        vertical-align: top;\n",
       "    }\n",
       "\n",
       "    .dataframe thead th {\n",
       "        text-align: right;\n",
       "    }\n",
       "</style>\n",
       "<table border=\"1\" class=\"dataframe\">\n",
       "  <thead>\n",
       "    <tr style=\"text-align: right;\">\n",
       "      <th></th>\n",
       "      <th>FHRSID</th>\n",
       "      <th>LocalAuthorityBusinessID</th>\n",
       "      <th>BusinessName</th>\n",
       "      <th>BusinessType</th>\n",
       "      <th>PostCode</th>\n",
       "      <th>RatingValue</th>\n",
       "      <th>RatingKey</th>\n",
       "      <th>RatingDate</th>\n",
       "      <th>LocalAuthorityCode</th>\n",
       "      <th>LocalAuthorityName</th>\n",
       "      <th>Longitude</th>\n",
       "      <th>Latitude</th>\n",
       "    </tr>\n",
       "  </thead>\n",
       "  <tbody>\n",
       "    <tr>\n",
       "      <th>0</th>\n",
       "      <td>1438654</td>\n",
       "      <td>21/00856/FOOD</td>\n",
       "      <td>1st Base Catering</td>\n",
       "      <td>Mobile caterer</td>\n",
       "      <td>E20 2ST</td>\n",
       "      <td>AwaitingInspection</td>\n",
       "      <td>fhrs_awaitinginspection_en-GB</td>\n",
       "      <td>nan</td>\n",
       "      <td>525</td>\n",
       "      <td>Newham</td>\n",
       "      <td>-0.018066</td>\n",
       "      <td>51.538799</td>\n",
       "    </tr>\n",
       "    <tr>\n",
       "      <th>1</th>\n",
       "      <td>1132140</td>\n",
       "      <td>19/00459/FOOD</td>\n",
       "      <td>53.5 Degrees</td>\n",
       "      <td>Restaurant/Cafe/Canteen</td>\n",
       "      <td>E16 2RD</td>\n",
       "      <td>5</td>\n",
       "      <td>fhrs_5_en-GB</td>\n",
       "      <td>2019-05-10</td>\n",
       "      <td>525</td>\n",
       "      <td>Newham</td>\n",
       "      <td>0.064757</td>\n",
       "      <td>51.507405</td>\n",
       "    </tr>\n",
       "    <tr>\n",
       "      <th>2</th>\n",
       "      <td>1132134</td>\n",
       "      <td>19/00447/FOOD</td>\n",
       "      <td>53.5 Degrees</td>\n",
       "      <td>Restaurant/Cafe/Canteen</td>\n",
       "      <td>E15 4LZ</td>\n",
       "      <td>5</td>\n",
       "      <td>fhrs_5_en-GB</td>\n",
       "      <td>2019-05-14</td>\n",
       "      <td>525</td>\n",
       "      <td>Newham</td>\n",
       "      <td>0.009809</td>\n",
       "      <td>51.543395</td>\n",
       "    </tr>\n",
       "    <tr>\n",
       "      <th>3</th>\n",
       "      <td>1260384</td>\n",
       "      <td>20/00288/FOOD</td>\n",
       "      <td>55 Square Limited</td>\n",
       "      <td>Restaurant/Cafe/Canteen</td>\n",
       "      <td>E16 1EN</td>\n",
       "      <td>2</td>\n",
       "      <td>fhrs_2_en-GB</td>\n",
       "      <td>2020-12-09</td>\n",
       "      <td>525</td>\n",
       "      <td>Newham</td>\n",
       "      <td>0.012417</td>\n",
       "      <td>51.517514</td>\n",
       "    </tr>\n",
       "    <tr>\n",
       "      <th>4</th>\n",
       "      <td>1389145</td>\n",
       "      <td>21/00354/FOOD</td>\n",
       "      <td>7 Mamas Ltd</td>\n",
       "      <td>Takeaway/sandwich shop</td>\n",
       "      <td>E6 3HN</td>\n",
       "      <td>5</td>\n",
       "      <td>fhrs_5_en-GB</td>\n",
       "      <td>2022-01-05</td>\n",
       "      <td>525</td>\n",
       "      <td>Newham</td>\n",
       "      <td>0.055372</td>\n",
       "      <td>51.527803</td>\n",
       "    </tr>\n",
       "  </tbody>\n",
       "</table>\n",
       "</div>"
      ],
      "text/plain": [
       "    FHRSID LocalAuthorityBusinessID       BusinessName  \\\n",
       "0  1438654            21/00856/FOOD  1st Base Catering   \n",
       "1  1132140            19/00459/FOOD       53.5 Degrees   \n",
       "2  1132134            19/00447/FOOD       53.5 Degrees   \n",
       "3  1260384            20/00288/FOOD  55 Square Limited   \n",
       "4  1389145            21/00354/FOOD        7 Mamas Ltd   \n",
       "\n",
       "              BusinessType PostCode         RatingValue  \\\n",
       "0           Mobile caterer  E20 2ST  AwaitingInspection   \n",
       "1  Restaurant/Cafe/Canteen  E16 2RD                   5   \n",
       "2  Restaurant/Cafe/Canteen  E15 4LZ                   5   \n",
       "3  Restaurant/Cafe/Canteen  E16 1EN                   2   \n",
       "4   Takeaway/sandwich shop   E6 3HN                   5   \n",
       "\n",
       "                       RatingKey  RatingDate  LocalAuthorityCode  \\\n",
       "0  fhrs_awaitinginspection_en-GB         nan                 525   \n",
       "1                   fhrs_5_en-GB  2019-05-10                 525   \n",
       "2                   fhrs_5_en-GB  2019-05-14                 525   \n",
       "3                   fhrs_2_en-GB  2020-12-09                 525   \n",
       "4                   fhrs_5_en-GB  2022-01-05                 525   \n",
       "\n",
       "  LocalAuthorityName  Longitude   Latitude  \n",
       "0             Newham  -0.018066  51.538799  \n",
       "1             Newham   0.064757  51.507405  \n",
       "2             Newham   0.009809  51.543395  \n",
       "3             Newham   0.012417  51.517514  \n",
       "4             Newham   0.055372  51.527803  "
      ]
     },
     "execution_count": 88,
     "metadata": {},
     "output_type": "execute_result"
    }
   ],
   "source": [
    "# after removing the unused column from the data frame\n",
    "df_food_hygiene.head()"
   ]
  },
  {
   "cell_type": "markdown",
   "id": "03ab3371",
   "metadata": {},
   "source": [
    "Now we do not have null values in the data frame, this is now ready for the model building "
   ]
  },
  {
   "cell_type": "markdown",
   "id": "8bf465e9",
   "metadata": {},
   "source": [
    "# Model building and evaluation"
   ]
  },
  {
   "cell_type": "markdown",
   "id": "d40facd6",
   "metadata": {},
   "source": [
    "Change the categorical variable into numeraical variable in order to do the models"
   ]
  },
  {
   "cell_type": "code",
   "execution_count": 96,
   "id": "e7b78e10",
   "metadata": {},
   "outputs": [
    {
     "data": {
      "text/html": [
       "<div>\n",
       "<style scoped>\n",
       "    .dataframe tbody tr th:only-of-type {\n",
       "        vertical-align: middle;\n",
       "    }\n",
       "\n",
       "    .dataframe tbody tr th {\n",
       "        vertical-align: top;\n",
       "    }\n",
       "\n",
       "    .dataframe thead th {\n",
       "        text-align: right;\n",
       "    }\n",
       "</style>\n",
       "<table border=\"1\" class=\"dataframe\">\n",
       "  <thead>\n",
       "    <tr style=\"text-align: right;\">\n",
       "      <th></th>\n",
       "      <th>FHRSID</th>\n",
       "      <th>LocalAuthorityBusinessID</th>\n",
       "      <th>BusinessName</th>\n",
       "      <th>BusinessType</th>\n",
       "      <th>PostCode</th>\n",
       "      <th>RatingValue</th>\n",
       "      <th>RatingKey</th>\n",
       "      <th>RatingDate</th>\n",
       "      <th>LocalAuthorityCode</th>\n",
       "      <th>LocalAuthorityName</th>\n",
       "      <th>Longitude</th>\n",
       "      <th>Latitude</th>\n",
       "    </tr>\n",
       "  </thead>\n",
       "  <tbody>\n",
       "    <tr>\n",
       "      <th>0</th>\n",
       "      <td>1438654</td>\n",
       "      <td>0</td>\n",
       "      <td>0</td>\n",
       "      <td>0</td>\n",
       "      <td>0</td>\n",
       "      <td>0</td>\n",
       "      <td>0</td>\n",
       "      <td>0</td>\n",
       "      <td>525</td>\n",
       "      <td>0</td>\n",
       "      <td>-0.018066</td>\n",
       "      <td>51.538799</td>\n",
       "    </tr>\n",
       "    <tr>\n",
       "      <th>1</th>\n",
       "      <td>1132140</td>\n",
       "      <td>1</td>\n",
       "      <td>1</td>\n",
       "      <td>1</td>\n",
       "      <td>1</td>\n",
       "      <td>1</td>\n",
       "      <td>1</td>\n",
       "      <td>1</td>\n",
       "      <td>525</td>\n",
       "      <td>0</td>\n",
       "      <td>0.064757</td>\n",
       "      <td>51.507405</td>\n",
       "    </tr>\n",
       "    <tr>\n",
       "      <th>2</th>\n",
       "      <td>1132134</td>\n",
       "      <td>2</td>\n",
       "      <td>1</td>\n",
       "      <td>1</td>\n",
       "      <td>2</td>\n",
       "      <td>1</td>\n",
       "      <td>1</td>\n",
       "      <td>2</td>\n",
       "      <td>525</td>\n",
       "      <td>0</td>\n",
       "      <td>0.009809</td>\n",
       "      <td>51.543395</td>\n",
       "    </tr>\n",
       "    <tr>\n",
       "      <th>3</th>\n",
       "      <td>1260384</td>\n",
       "      <td>3</td>\n",
       "      <td>2</td>\n",
       "      <td>1</td>\n",
       "      <td>3</td>\n",
       "      <td>2</td>\n",
       "      <td>2</td>\n",
       "      <td>3</td>\n",
       "      <td>525</td>\n",
       "      <td>0</td>\n",
       "      <td>0.012417</td>\n",
       "      <td>51.517514</td>\n",
       "    </tr>\n",
       "    <tr>\n",
       "      <th>4</th>\n",
       "      <td>1389145</td>\n",
       "      <td>4</td>\n",
       "      <td>3</td>\n",
       "      <td>2</td>\n",
       "      <td>4</td>\n",
       "      <td>1</td>\n",
       "      <td>1</td>\n",
       "      <td>4</td>\n",
       "      <td>525</td>\n",
       "      <td>0</td>\n",
       "      <td>0.055372</td>\n",
       "      <td>51.527803</td>\n",
       "    </tr>\n",
       "  </tbody>\n",
       "</table>\n",
       "</div>"
      ],
      "text/plain": [
       "    FHRSID  LocalAuthorityBusinessID  BusinessName  BusinessType  PostCode  \\\n",
       "0  1438654                         0             0             0         0   \n",
       "1  1132140                         1             1             1         1   \n",
       "2  1132134                         2             1             1         2   \n",
       "3  1260384                         3             2             1         3   \n",
       "4  1389145                         4             3             2         4   \n",
       "\n",
       "   RatingValue  RatingKey  RatingDate  LocalAuthorityCode  LocalAuthorityName  \\\n",
       "0            0          0           0                 525                   0   \n",
       "1            1          1           1                 525                   0   \n",
       "2            1          1           2                 525                   0   \n",
       "3            2          2           3                 525                   0   \n",
       "4            1          1           4                 525                   0   \n",
       "\n",
       "   Longitude   Latitude  \n",
       "0  -0.018066  51.538799  \n",
       "1   0.064757  51.507405  \n",
       "2   0.009809  51.543395  \n",
       "3   0.012417  51.517514  \n",
       "4   0.055372  51.527803  "
      ]
     },
     "execution_count": 96,
     "metadata": {},
     "output_type": "execute_result"
    }
   ],
   "source": [
    "#identify all categorical variables\n",
    "cat_columns = df_food_hygiene.select_dtypes(['object']).columns\n",
    "\n",
    "#convert all categorical variables to numeric\n",
    "df_food_hygiene[cat_columns] = df_food_hygiene[cat_columns].apply(lambda x: pd.factorize(x)[0])\n",
    "df_food_hygiene.head()"
   ]
  },
  {
   "cell_type": "code",
   "execution_count": 104,
   "id": "058f8e0c",
   "metadata": {},
   "outputs": [
    {
     "data": {
      "text/plain": [
       "['BusinessType', 'LocalAuthorityName']"
      ]
     },
     "execution_count": 104,
     "metadata": {},
     "output_type": "execute_result"
    }
   ],
   "source": [
    "feature_names = ['BusinessType','LocalAuthorityName']\n",
    "\n",
    "X = df_food_hygiene[feature_names]\n",
    "Y = df_food_hygiene['RatingValue']\n",
    "feature_names"
   ]
  },
  {
   "cell_type": "code",
   "execution_count": 105,
   "id": "45791baf",
   "metadata": {},
   "outputs": [],
   "source": [
    "from sklearn.model_selection import train_test_split\n",
    "X_train, X_test, y_train, y_test = train_test_split(X, Y, random_state=0)\n",
    "from sklearn.preprocessing import MinMaxScaler\n",
    "scaler = MinMaxScaler()\n",
    "X_train = scaler.fit_transform(X_train)\n",
    "X_test = scaler.transform(X_test)\n",
    "\n"
   ]
  },
  {
   "cell_type": "markdown",
   "id": "aaa326d4",
   "metadata": {},
   "source": [
    "Logistic Regression  Model\n",
    "---------------------------------------"
   ]
  },
  {
   "cell_type": "code",
   "execution_count": 106,
   "id": "6a5a4694",
   "metadata": {},
   "outputs": [
    {
     "name": "stdout",
     "output_type": "stream",
     "text": [
      "Accuracy of Logistic regression classifier on training set: 0.52\n",
      "Accuracy of Logistic regression classifier on test set: 0.51\n"
     ]
    }
   ],
   "source": [
    "from sklearn.linear_model import LogisticRegression\n",
    "logreg = LogisticRegression()\n",
    "logreg.fit(X_train, y_train)\n",
    "print('On the training set, the accuracy of a logistic regression classifier: {:.2f}'\n",
    "     .format(logreg.score(X_train, y_train)))\n",
    "print('On a test set, the accuracy of a logistic regression classifier: {:.2f}'\n",
    "     .format(logreg.score(X_test, y_test)))\n",
    "\n"
   ]
  },
  {
   "cell_type": "markdown",
   "id": "0ed55f6e",
   "metadata": {},
   "source": [
    "Decision Tree \n",
    "--------------------"
   ]
  },
  {
   "cell_type": "code",
   "execution_count": 108,
   "id": "7800dd4c",
   "metadata": {},
   "outputs": [
    {
     "name": "stdout",
     "output_type": "stream",
     "text": [
      "On the training set, the accuracy of the Decision Tree classifier: 0.53\n",
      "On a test set, the Decision Tree classifier accuracy was tested.: 0.51\n"
     ]
    }
   ],
   "source": [
    "from sklearn.tree import DecisionTreeClassifier\n",
    "clf = DecisionTreeClassifier().fit(X_train, y_train)\n",
    "print('On the training set, the accuracy of the Decision Tree classifier: {:.2f}'\n",
    "     .format(clf.score(X_train, y_train)))\n",
    "print('On a test set, the Decision Tree classifier accuracy was tested.: {:.2f}'\n",
    "     .format(clf.score(X_test, y_test)))\n",
    "\n"
   ]
  },
  {
   "cell_type": "markdown",
   "id": "5e95f499",
   "metadata": {},
   "source": [
    "K-Nearest Neighbors\n",
    "------------------------------"
   ]
  },
  {
   "cell_type": "code",
   "execution_count": 109,
   "id": "99e24f59",
   "metadata": {},
   "outputs": [
    {
     "name": "stdout",
     "output_type": "stream",
     "text": [
      "On the training set, the accuracy of the K-NN classifier: 0.47\n",
      "On the test set, the accuracy of the K-NN classifier: 0.45\n"
     ]
    }
   ],
   "source": [
    "from sklearn.neighbors import KNeighborsClassifier\n",
    "knn = KNeighborsClassifier()\n",
    "knn.fit(X_train, y_train)\n",
    "print('On the training set, the accuracy of the K-NN classifier: {:.2f}'\n",
    "     .format(knn.score(X_train, y_train)))\n",
    "print('On the test set, the accuracy of the K-NN classifier: {:.2f}'\n",
    "     .format(knn.score(X_test, y_test)))\n",
    "\n"
   ]
  },
  {
   "cell_type": "markdown",
   "id": "81325370",
   "metadata": {},
   "source": [
    "# Project evaluation and summary"
   ]
  },
  {
   "cell_type": "code",
   "execution_count": null,
   "id": "48b49397",
   "metadata": {},
   "outputs": [],
   "source": []
  }
 ],
 "metadata": {
  "kernelspec": {
   "display_name": "Python 3 (ipykernel)",
   "language": "python",
   "name": "python3"
  },
  "language_info": {
   "codemirror_mode": {
    "name": "ipython",
    "version": 3
   },
   "file_extension": ".py",
   "mimetype": "text/x-python",
   "name": "python",
   "nbconvert_exporter": "python",
   "pygments_lexer": "ipython3",
   "version": "3.8.11"
  }
 },
 "nbformat": 4,
 "nbformat_minor": 5
}
